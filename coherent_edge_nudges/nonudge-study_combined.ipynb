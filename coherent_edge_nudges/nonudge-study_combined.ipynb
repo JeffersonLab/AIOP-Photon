{
 "cells": [
  {
   "cell_type": "markdown",
   "metadata": {},
   "source": [
    "# Look at runs with no nudges \n",
    "This removes effect of changes to pitch and yaw.\n",
    "Gives clear picture of how electron params effect coherent edge"
   ]
  },
  {
   "cell_type": "code",
   "execution_count": null,
   "metadata": {
    "_cell_guid": "b1076dfc-b9ad-4769-8c92-a6c4dae69d19",
    "_uuid": "8f2839f25d086af736a60e9eeb907d3b93b6e0e5",
    "execution": {
     "iopub.execute_input": "2025-06-09T16:13:09.005543Z",
     "iopub.status.busy": "2025-06-09T16:13:09.005200Z",
     "iopub.status.idle": "2025-06-09T16:13:09.013975Z",
     "shell.execute_reply": "2025-06-09T16:13:09.013041Z",
     "shell.execute_reply.started": "2025-06-09T16:13:09.005518Z"
    },
    "trusted": true
   },
   "outputs": [],
   "source": [
    "import numpy as np # linear algebra\n",
    "import pandas as pd # data processing, CSV file I/O (e.g. pd.read_csv)\n",
    "import matplotlib.pyplot as plt\n",
    "import matplotlib.ticker as ticker\n",
    "import statistics\n",
    "pd.set_option('display.max_columns',500)"
   ]
  },
  {
   "cell_type": "code",
   "execution_count": null,
   "metadata": {
    "execution": {
     "iopub.execute_input": "2025-06-09T16:13:18.498952Z",
     "iopub.status.busy": "2025-06-09T16:13:18.498621Z",
     "iopub.status.idle": "2025-06-09T16:13:38.621233Z",
     "shell.execute_reply": "2025-06-09T16:13:38.620288Z",
     "shell.execute_reply.started": "2025-06-09T16:13:18.498919Z"
    },
    "trusted": true
   },
   "outputs": [],
   "source": [
    "df_2020 = pd.read_csv(\"csv_data/merged/Spring2020_with_up_time.csv\")\n",
    "df_2023 = pd.read_csv(\"csv_data/merged/Spring2023_with_up_time.csv\")\n",
    "df_2025 = pd.read_csv(\"csv_data/merged/Spring2025_with_up_time.csv\")\n",
    "print(df_2020.columns)"
   ]
  },
  {
   "cell_type": "code",
   "execution_count": null,
   "metadata": {
    "trusted": true
   },
   "outputs": [],
   "source": [
    "df_2020.dropna(inplace=True)\n",
    "df_2023.dropna(inplace=True)\n",
    "df_2025.dropna(inplace=True)"
   ]
  },
  {
   "cell_type": "markdown",
   "metadata": {},
   "source": [
    "We only want good beam times, so require the beam has been \"up\" for at least 30 seconds"
   ]
  },
  {
   "cell_type": "code",
   "execution_count": null,
   "metadata": {},
   "outputs": [],
   "source": [
    "def select_data(df_in):\n",
    "    df_out = df_in[df_in['BeamUpTime']>30]\n",
    "    return df_out\n",
    "\n",
    "    \n",
    "df_2020 = select_data(df_2020)\n",
    "df_2023 = select_data(df_2023)\n",
    "df_2025 = select_data(df_2025)"
   ]
  },
  {
   "cell_type": "markdown",
   "metadata": {},
   "source": [
    "# plot time series of electron and photon beam params vs time"
   ]
  },
  {
   "cell_type": "code",
   "execution_count": null,
   "metadata": {},
   "outputs": [],
   "source": [
    "import matplotlib.pyplot as plt\n",
    "import matplotlib.ticker as ticker\n",
    "import numpy as np\n",
    "import statistics\n",
    "pd.set_option('display.max_columns',500)\n",
    "\n",
    "# plot time series of coherent edge, and electron beam x, y, current, energy\n",
    "def plot_run(df_in, runNumber, set_ylims = False, ymin=8600, ymax=8620):\n",
    "\n",
    "    df_run = df_in[(df_in['RunNumber']==runNumber)&(df_in['DAQ:STATUS']==2)&(df_in['EBEAM:CURRENT']>50)]\n",
    "    df_run.reset_index(inplace=True)\n",
    "\n",
    "    if df_run.empty:\n",
    "        return\n",
    "    radiator_name = df_run['RADIATOR:NAME'].mode()[0].strip('deg')\n",
    "     # we want only runs with diamond radiator, so skip all with amorphous\n",
    "    if 'Al' in radiator_name:\n",
    "        return\n",
    "    \n",
    "    print(\"plotting for run \",runNumber)\n",
    "\n",
    "    fig, (ax1, ax2, ax3,ax4,ax5) = plt.subplots(5,1,sharex=True)\n",
    "    \n",
    "    # plot coherent edge energy vs time\n",
    "    ax1.plot(df_run['TimeStamp'],df_run['CBREM:ENERGY'],color='b')\n",
    "\n",
    "    if set_ylims:\n",
    "        ax1.set_ylim(ymin,ymax)\n",
    "    ax1.yaxis.set_minor_locator(ticker.MultipleLocator(5))\n",
    "\n",
    "\n",
    "    # plot electron beam x, y, current, and energy vs time\n",
    "    ax2.plot(df_run['TimeStamp'],df_run['EBEAM:X'],color='r')\n",
    "    ax2.set_ylabel('X (mm)')\n",
    "\n",
    "    ax3.plot(df_run['TimeStamp'],df_run['EBEAM:Y'],color='g')\n",
    "    ax3.set_ylabel('Y (mm)')\n",
    "    plt.xlabel(\"Time Stamp (s)\")\n",
    "\n",
    "    ax4.plot(df_run['TimeStamp'],df_run['EBEAM:CURRENT'])\n",
    "    ax4.set_ylabel(\"I (nA)\")\n",
    "\n",
    "    ax5.plot(df_run['TimeStamp'],df_run['EBEAM:ENERGY'])\n",
    "    ax5.set_ylabel(\"$E(e^-) [MeV]$\")\n",
    " \n",
    "    plane_value = df_run.loc[0,'CBREM:PLANE']\n",
    "\n",
    "    plane_str = 'PARA'\n",
    "    if plane_value==2:\n",
    "        plane_str = \"PERP\"\n",
    "    elif plane_value==0:\n",
    "        plane_str = \"Undefined\"\n",
    "\n",
    "\n",
    "    titleStr = 'Run '+str(runNumber)+' '+radiator_name+plane_str\n",
    "    ax1.set_title(titleStr)\n",
    "    ax1.set_ylabel(\"$E_\\gamma$ [MeV]\")\n",
    "    ax1.legend()\n",
    "\n",
    "    plt.savefig(\"plots/noNudge/plot_run_\"+str(runNumber)+\".pdf\")\n",
    " \n",
    "    plt.show()\n",
    "\n",
    "    plt.clf()\n"
   ]
  },
  {
   "cell_type": "markdown",
   "metadata": {},
   "source": [
    "# Plot summary correlations for each run period and orientation"
   ]
  },
  {
   "cell_type": "code",
   "execution_count": null,
   "metadata": {},
   "outputs": [],
   "source": [
    "import seaborn as sns\n",
    "from sklearn.feature_selection import mutual_info_regression \n",
    "\n",
    "# run period is either Spring20, Spring23, or Spring25\n",
    "def summary_correlations(df_in, run_period):\n",
    "\n",
    "    if df_in.empty:\n",
    "        print('input data frame empty, exit')\n",
    "        exit()\n",
    "    roll_0_90 = 0\n",
    "    roll_45_135 = 0\n",
    "\n",
    "    if run_period == 'Spring20':\n",
    "        roll_0_90 = -10.5\n",
    "        roll_45_135 = 34.5\n",
    "    elif run_period == 'Spring23':\n",
    "        roll_0_90 = 162\n",
    "        roll_45_135 = -153\n",
    "    elif run_period == 'Spring25':\n",
    "        roll_0_90 = -16.6\n",
    "        roll_45_135 = 28.4\n",
    "    else:\n",
    "        print(\"run_period\",run_period,'not defined')\n",
    "        exit()\n",
    "\n",
    "    # data frame for times with DAQ on, beam up at least 30 seconds, separated by orientation\n",
    "    df_0_90_PERP = df_in[(df_in['DAQ:STATUS']==2)&(df_in['GONI:ROLL']==roll_0_90)&(df_in['CBREM:PLANE']==2)]\n",
    "    df_0_90_PARA = df_in[(df_in['DAQ:STATUS']==2)&(df_in['GONI:ROLL']==roll_0_90)&(df_in['CBREM:PLANE']==1)]\n",
    "\n",
    "    df_45_135_PERP = df_in[(df_in['DAQ:STATUS']==2)&(df_in['GONI:ROLL']==roll_45_135)&(df_in['CBREM:PLANE']==2)]\n",
    "    df_45_135_PARA = df_in[(df_in['DAQ:STATUS']==2)&(df_in['GONI:ROLL']==roll_45_135)&(df_in['CBREM:PLANE']==1)]\n",
    "\n",
    "    df_list = [df_0_90_PERP,df_0_90_PARA,df_45_135_PERP,df_45_135_PARA]\n",
    "    title_list = [\"0/90 PERP\",\"0/90 PARA\",\"45/135 PERP\",\"45/135 PARA\"]\n",
    "    outStr = [\"0_90_PERP\",\"0_90_PARA\",\"45_135_PERP\",\"45_135_PARA\"]\n",
    "    #plt, (ax1, ax2, ax3, ax4) = plt.subplots(4,1)\n",
    "    #for method in ['pearson','spearman']:\n",
    "    for method in ['pearson']:\n",
    "        for i in range(len(df_list)):\n",
    "\n",
    "            ax = plt.subplot(1,1,1)\n",
    "            df_tmp = df_list[i].copy()\n",
    "            df_tmp = df_tmp[['CBREM:ENERGY_LAG_ADJUSTED','EBEAM:X',\"EBEAM:Y\",'EBEAM:CURRENT','EBEAM:ENERGY']]\n",
    "            if df_tmp.empty:\n",
    "                print('dataframe is empty for ',title_list[i])\n",
    "            #corr_matrix = np.array(df_tmp.corr(method=method)['CBREM:ENERGY']).reshape(-1,1)[1:]\n",
    "            corr_matrix = np.array(df_tmp.corr(method=method)['CBREM:ENERGY_LAG_ADJUSTED']).reshape(-1,1)[1:]\n",
    "            var_list = ['Electron X','Electron Y','Current','$E_e$']\n",
    "\n",
    "            print(corr_matrix)\n",
    "\n",
    "            sns.heatmap(corr_matrix,annot=True)\n",
    "            ax.set_yticklabels(var_list)\n",
    "            ax.set_xticklabels(['CBREM:ENERGY_LAG_ADJUSTED'])\n",
    "            plt.title(run_period+\" \"+title_list[i]+\" \"+method.title()+\" Correlations\")\n",
    "            plt.savefig(\"plots/noNudge/\"+method+\"_corr_plot_\"+outStr[i]+'_'+run_period+'.pdf')\n",
    "            plt.show()"
   ]
  },
  {
   "cell_type": "code",
   "execution_count": null,
   "metadata": {},
   "outputs": [],
   "source": [
    "summary_correlations(df_2020, 'Spring20')"
   ]
  },
  {
   "cell_type": "code",
   "execution_count": null,
   "metadata": {},
   "outputs": [],
   "source": [
    "summary_correlations(df_2023, 'Spring23')"
   ]
  },
  {
   "cell_type": "code",
   "execution_count": null,
   "metadata": {},
   "outputs": [],
   "source": [
    "summary_correlations(df_2025, 'Spring25')"
   ]
  },
  {
   "cell_type": "markdown",
   "metadata": {},
   "source": [
    "Plot x and y of beam for each run period"
   ]
  },
  {
   "cell_type": "code",
   "execution_count": null,
   "metadata": {},
   "outputs": [],
   "source": [
    "def plot_xy(df_in,title):\n",
    "    plt.scatter(df_in['EBEAM:X'],df_in['EBEAM:Y'],alpha=0.1)\n",
    "    plt.title(title)\n",
    "    plt.xlabel(\"Electron X [mm]\")\n",
    "    plt.ylabel(\"Electron Y [mm]\")"
   ]
  },
  {
   "cell_type": "code",
   "execution_count": null,
   "metadata": {},
   "outputs": [],
   "source": [
    "plot_xy(df_2020,'Spring 2020 y vs x')"
   ]
  },
  {
   "cell_type": "code",
   "execution_count": null,
   "metadata": {},
   "outputs": [],
   "source": [
    "plot_xy(df_2023,'Spring 2023 y vs x')"
   ]
  },
  {
   "cell_type": "code",
   "execution_count": null,
   "metadata": {},
   "outputs": [],
   "source": [
    "plot_xy(df_2025,'Spring 2025 y vs x')"
   ]
  },
  {
   "cell_type": "code",
   "execution_count": null,
   "metadata": {},
   "outputs": [],
   "source": [
    "spring20_runs = df_2020['RunNumber'].unique()\n",
    "spring23_runs = df_2023['RunNumber'].unique()\n",
    "spring25_runs = df_2025['RunNumber'].unique()"
   ]
  },
  {
   "cell_type": "code",
   "execution_count": null,
   "metadata": {},
   "outputs": [],
   "source": [
    "print(len(spring20_runs))\n",
    "# time series for each spring20 run\n",
    "# uncomment to make time series plots for every spring20 run\n",
    "#for runNum in spring20_runs:\n",
    "#    plot_run(df_2020,runNum)"
   ]
  },
  {
   "cell_type": "code",
   "execution_count": null,
   "metadata": {},
   "outputs": [],
   "source": [
    "print(len(spring23_runs))\n",
    "# time series for each spring23 run\n",
    "# uncomment to make time series plots for every spring23 run\n",
    "#for runNum in spring23_runs:\n",
    "#    plot_run(df_2023,runNum)"
   ]
  },
  {
   "cell_type": "code",
   "execution_count": null,
   "metadata": {},
   "outputs": [],
   "source": [
    "print(len(spring25_runs))\n",
    "# time series for each spring25 run\n",
    "# uncomment to make time series plots for every spring25 run\n",
    "#for runNum in spring25_runs:\n",
    "#    plot_run(df_2025,runNum)"
   ]
  },
  {
   "cell_type": "code",
   "execution_count": null,
   "metadata": {},
   "outputs": [],
   "source": [
    "import matplotlib.gridspec as gridspec\n",
    "import matplotlib as mpl\n",
    "\n",
    "\n",
    "def plot_corrs(df_in, runNumber):\n",
    "    df_tmp = df_in[(df_in['RunNumber']==runNumber)&(df_in['EBEAM:CURRENT']>50)]\n",
    "    df_tmp.reset_index(inplace=True)\n",
    "\n",
    "    plane_value = df_tmp.loc[0,'CBREM:PLANE']\n",
    "    radiator_name = df_tmp['RADIATOR:NAME'].mode()[0].strip('deg')\n",
    "\n",
    "    # want only diamond runs, so remove amorphous\n",
    "    if 'Al' in radiator_name:\n",
    "        return\n",
    "\n",
    "    plane_str = 'PARA'\n",
    "    if plane_value==2:\n",
    "        plane_str = \"PERP\"\n",
    "    elif plane_value==0:\n",
    "        plane_str = \"Undefined\"\n",
    "    \n",
    "\n",
    "    fig = plt.figure(figsize=(8,8))\n",
    "    gs = gridspec.GridSpec(4,2,figure=fig,hspace=0.4)\n",
    "\n",
    "    ax1 = fig.add_subplot(gs[0,0])\n",
    "    ax2 = fig.add_subplot(gs[1,0])\n",
    "    ax3 = fig.add_subplot(gs[2,0])\n",
    "    ax4 = fig.add_subplot(gs[3,0])\n",
    "    ax5 = fig.add_subplot(gs[:,1])\n",
    "\n",
    "    ax1.scatter(df_tmp['EBEAM:X'],df_tmp['CBREM:ENERGY_LAG_ADJUSTED'],alpha=0.2,rasterized=True)\n",
    "    ax1.set_xlabel(\"Electron X [mm]\")\n",
    "    ax1.set_ylabel(\"$E_\\gamma$ [MeV]\")\n",
    "    ax1.set_yscale('log')\n",
    "    ax1.set_title(\"Run \"+str(runNumber)+\" \"+radiator_name+plane_str)\n",
    "\n",
    "    \n",
    "    ax2.scatter(df_tmp['EBEAM:Y'],df_tmp['CBREM:ENERGY_LAG_ADJUSTED'],alpha=0.2,rasterized=True)\n",
    "    ax2.set_xlabel(\"Electron Y [mm]\")\n",
    "    ax2.set_yscale('log')\n",
    "    ax2.set_ylabel(\"$E_\\gamma$ [MeV]\")\n",
    "\n",
    "\n",
    "    ax3.scatter(df_tmp['EBEAM:CURRENT'],df_tmp['CBREM:ENERGY_LAG_ADJUSTED'],alpha=0.2,rasterized=True)\n",
    "    ax3.set_xlabel(\"Current [nA]\")\n",
    "    ax3.set_yscale('log')\n",
    "    ax3.set_ylabel(\"$E_\\gamma$ [MeV]\")\n",
    "\n",
    "    ax4.scatter(df_tmp['EBEAM:ENERGY'],df_tmp['CBREM:ENERGY_LAG_ADJUSTED'],alpha=0.2,rasterized=True)\n",
    "    ax4.xaxis.set_major_locator(plt.MaxNLocator(4))\n",
    "    ax4.set_xlabel(\"Electron Energy [MeV]\")\n",
    "    ax4.set_yscale('log')\n",
    "    ax4.set_ylabel(\"$E_\\gamma$ [MeV]\")\n",
    "\n",
    "\n",
    "\n",
    "    # just grab variables of interest, in the correct order \n",
    "    # keep coherent edge energy at beginning, but drop after \n",
    "    df_viz = df_tmp[['CBREM:ENERGY_LAG_ADJUSTED','EBEAM:X',\"EBEAM:Y\",'EBEAM:CURRENT','EBEAM:ENERGY']]\n",
    "    corr_matrix = np.array(df_viz.corr()['CBREM:ENERGY_LAG_ADJUSTED']).reshape(-1,1)[1:]\n",
    "\n",
    "    var_list = ['Electron X',\"Electron Y\",'Current','Electron Energy']\n",
    "\n",
    "    print(corr_matrix)\n",
    "\n",
    "    sns.heatmap(corr_matrix,ax=ax5,annot=True)\n",
    "    ax5.set_yticklabels(var_list)\n",
    "    ax5.set_xticklabels(['$E_\\gamma$'])\n",
    "    ax5.set_title(\"Correlation Map\")\n",
    " \n",
    "    plt.savefig(\"plots/noNudge/run_\"+str(runNumber)+\"_correlations.pdf\")\n",
    "    plt.show()\n",
    "    plt.clf()"
   ]
  },
  {
   "cell_type": "code",
   "execution_count": null,
   "metadata": {},
   "outputs": [],
   "source": [
    "print(len(spring20_runs))\n",
    "# uncomment to make time series plots for every spring20 run\n",
    "#for runVal in spring20_runs:\n",
    "#    plot_corrs(df_2020, runVal)"
   ]
  },
  {
   "cell_type": "code",
   "execution_count": null,
   "metadata": {},
   "outputs": [],
   "source": [
    "print(len(spring23_runs))\n",
    "# uncomment to make time series plots for every spring20 run\n",
    "#for runVal in spring23_runs:\n",
    "#    plot_corrs(df_2023, runVal)"
   ]
  },
  {
   "cell_type": "code",
   "execution_count": null,
   "metadata": {},
   "outputs": [],
   "source": [
    "print(len(spring25_runs))\n",
    "# uncomment to make time series plots for every spring25 run\n",
    "#for runVal in spring25_runs:\n",
    "#    plot_corrs(df_2025, runVal)"
   ]
  },
  {
   "cell_type": "markdown",
   "metadata": {},
   "source": [
    "After running commented blocks above, we manually pick out some of the most striking runs for visualizing how electron beam params effect coherent edge"
   ]
  },
  {
   "cell_type": "markdown",
   "metadata": {},
   "source": [
    "# Runs with large spread in X"
   ]
  },
  {
   "cell_type": "code",
   "execution_count": null,
   "metadata": {},
   "outputs": [],
   "source": [
    "# run with dramatic x spread\n",
    "plot_corrs(df_2020,72676)\n",
    "plot_run(df_2020,72676)"
   ]
  },
  {
   "cell_type": "code",
   "execution_count": null,
   "metadata": {},
   "outputs": [],
   "source": [
    "plot_corrs(df_2023,120351)\n",
    "plot_run(df_2023,120351)"
   ]
  },
  {
   "cell_type": "markdown",
   "metadata": {},
   "source": [
    "# Runs with large spread in y"
   ]
  },
  {
   "cell_type": "code",
   "execution_count": null,
   "metadata": {},
   "outputs": [],
   "source": [
    "# run with dramatic y spread \n",
    "plot_corrs(df_2020,72122)\n",
    "plot_run(df_2020,72122)"
   ]
  },
  {
   "cell_type": "code",
   "execution_count": null,
   "metadata": {},
   "outputs": [],
   "source": [
    "plot_corrs(df_2023,120366)\n",
    "plot_run(df_2023,120355)"
   ]
  },
  {
   "cell_type": "code",
   "execution_count": null,
   "metadata": {},
   "outputs": [],
   "source": [
    "plot_corrs(df_2025,131440)\n",
    "plot_run(df_2025,131440)"
   ]
  },
  {
   "cell_type": "markdown",
   "metadata": {},
   "source": [
    "# Runs with large spread in electron beam energy"
   ]
  },
  {
   "cell_type": "code",
   "execution_count": null,
   "metadata": {},
   "outputs": [],
   "source": [
    "# run with a spread in electron beam energy \n",
    "plot_corrs(df_2020,72412)\n",
    "plot_run(df_2020,72412)"
   ]
  },
  {
   "cell_type": "code",
   "execution_count": null,
   "metadata": {},
   "outputs": [],
   "source": [
    "plot_corrs(df_2023,120371)\n",
    "plot_run(df_2023,120371)"
   ]
  },
  {
   "cell_type": "code",
   "execution_count": null,
   "metadata": {},
   "outputs": [],
   "source": [
    "plot_corrs(df_2025,131454)\n",
    "plot_run(df_2025,131454)"
   ]
  },
  {
   "cell_type": "markdown",
   "metadata": {},
   "source": [
    "# Runs with strange electron beam current behavior"
   ]
  },
  {
   "cell_type": "code",
   "execution_count": null,
   "metadata": {},
   "outputs": [],
   "source": [
    "# periodic behavior in electron beam current, no impact on coherent edge\n",
    "plot_corrs(df_2020,72656)\n",
    "plot_run(df_2020,72656,True,8590,8610)"
   ]
  },
  {
   "cell_type": "markdown",
   "metadata": {},
   "source": [
    "# Pair plots for each run period. \n",
    "They take a long time to run since they are reading in a large amount of data"
   ]
  },
  {
   "cell_type": "code",
   "execution_count": null,
   "metadata": {},
   "outputs": [],
   "source": [
    "df_2020_pair = df_2020[(df_2020['CBREM:ENERGY_LAG_ADJUSTED']>8000)&(df_2020['EBEAM:ENERGY']>1000)]\n",
    "sns.pairplot(df_2020_pair[['CBREM:ENERGY_LAG_ADJUSTED','EBEAM:X','EBEAM:Y','EBEAM:CURRENT','EBEAM:ENERGY']],plot_kws={'alpha':0.1})"
   ]
  },
  {
   "cell_type": "code",
   "execution_count": null,
   "metadata": {},
   "outputs": [],
   "source": [
    "df_2023_pair = df_2023[(df_2023['CBREM:ENERGY']>5000)&(df_2023['EBEAM:ENERGY']>2000)]\n",
    "sns.pairplot(df_2023_pair[['CBREM:ENERGY','EBEAM:X','EBEAM:Y','EBEAM:CURRENT','EBEAM:ENERGY']],plot_kws={'alpha':0.1})"
   ]
  },
  {
   "cell_type": "code",
   "execution_count": null,
   "metadata": {},
   "outputs": [],
   "source": [
    "df_2025_pair = df_2025[(df_2025['EBEAM:ENERGY']>3000)&(df_2025['EBEAM:ENERGY']<11750)]\n",
    "sns.pairplot(df_2025_pair[['CBREM:ENERGY','EBEAM:X','EBEAM:Y','EBEAM:CURRENT','EBEAM:ENERGY']])"
   ]
  },
  {
   "cell_type": "code",
   "execution_count": null,
   "metadata": {},
   "outputs": [],
   "source": []
  }
 ],
 "metadata": {
  "kaggle": {
   "accelerator": "none",
   "dataSources": [
    {
     "datasetId": 7606862,
     "sourceId": 12083762,
     "sourceType": "datasetVersion"
    }
   ],
   "dockerImageVersionId": 31040,
   "isGpuEnabled": false,
   "isInternetEnabled": true,
   "language": "python",
   "sourceType": "notebook"
  },
  "kernelspec": {
   "display_name": "base",
   "language": "python",
   "name": "python3"
  },
  "language_info": {
   "codemirror_mode": {
    "name": "ipython",
    "version": 3
   },
   "file_extension": ".py",
   "mimetype": "text/x-python",
   "name": "python",
   "nbconvert_exporter": "python",
   "pygments_lexer": "ipython3",
   "version": "3.10.18"
  }
 },
 "nbformat": 4,
 "nbformat_minor": 4
}
